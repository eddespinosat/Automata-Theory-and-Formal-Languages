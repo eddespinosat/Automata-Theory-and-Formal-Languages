{
  "nbformat": 4,
  "nbformat_minor": 0,
  "metadata": {
    "colab": {
      "provenance": []
    },
    "kernelspec": {
      "name": "python3",
      "display_name": "Python 3"
    },
    "language_info": {
      "name": "python"
    }
  },
  "cells": [
    {
      "cell_type": "markdown",
      "source": [
        "Analizador léxico\n",
        "Edgar Fernando Espinosa Torres"
      ],
      "metadata": {
        "id": "8A4zOmKBaj63"
      }
    },
    {
      "cell_type": "code",
      "execution_count": null,
      "metadata": {
        "id": "E2waJWAwahCY"
      },
      "outputs": [],
      "source": [
        "import csv\n",
        "\n",
        "# Normalizar las claves y valores de los diccionarios a minúsculas\n",
        "def normalizar_tabla(tabla):\n",
        "    tabla_normalizada = {}\n",
        "    for clave, valor in tabla.items():\n",
        "        # Aquí, si el valor es un guión y no es un encabezado (estado), se cambia a \"error\".\n",
        "        tabla_normalizada[int(clave)] = {str(k).lower(): ('error' if v == '-' else str(v).lower() if isinstance(v, str) else int(v))\n",
        "                                         for k, v in valor.items()}\n",
        "    return tabla_normalizada\n",
        "\n",
        "# Leer la tabla de transiciones desde un archivo CSV y normalizarla\n",
        "def leer_tabla_transiciones(ruta_archivo):\n",
        "    with open(ruta_archivo, mode='r', newline='', encoding='utf-8') as csvfile:\n",
        "        reader = csv.DictReader((line.lower() for line in csvfile))\n",
        "        tabla_transiciones = {}\n",
        "        for fila in reader:\n",
        "            estado = int(fila['estado'])\n",
        "            transiciones = {clave: (int(valor) if valor.isdigit() else valor) for clave, valor in fila.items() if clave != 'estado'}\n",
        "            tabla_transiciones[estado] = transiciones\n",
        "        return normalizar_tabla(tabla_transiciones)\n",
        "\n",
        "# Alfabeto\n",
        "alfabeto = {'0', '1', '2', '3', '4', '5', '6', '7', '8', '9', '.', 'e', '+', '-'} # Suponiendo que '-' sigue siendo parte del alfabeto\n",
        "\n",
        "def caracter_a_entrada(caracter):\n",
        "    if caracter.isdigit():\n",
        "        return 'digito'\n",
        "    elif caracter == '':\n",
        "        return 'fdc'\n",
        "    elif caracter == '-': # Aquí manejamos el '-' como un error fuera de los encabezados\n",
        "        return 'error'\n",
        "    elif caracter.lower() in alfabeto:\n",
        "        return caracter.lower()\n",
        "    else:\n",
        "        return 'error'\n",
        "\n",
        "def analizar_cadena(cadena, tabla_transiciones):\n",
        "    estado = 1\n",
        "    i = 0\n",
        "    secuencia = \"\"\n",
        "    while estado != 'aceptar' and estado != 'error':\n",
        "        if i < len(cadena):\n",
        "            simbolo = cadena[i]\n",
        "        else:\n",
        "            simbolo = ''  # Marca de fin de cadena (end of string)\n",
        "        entrada = caracter_a_entrada(simbolo)\n",
        "        proximo_estado = tabla_transiciones[estado].get(entrada, 'error')\n",
        "        secuencia += f\"Estado {estado}, {entrada} ---> Estado {proximo_estado}\\n\"\n",
        "        if proximo_estado == 'error':\n",
        "            return False, secuencia + \"No se acepta la cadena.\"\n",
        "        estado = proximo_estado\n",
        "        i += 1\n",
        "    return estado == 'aceptar', secuencia + \"Sí se acepta la cadena.\"\n",
        "\n",
        "# Consola para el usuario\n",
        "print(\"Analizador Léxico. Escribe 'salir' para terminar.\")\n",
        "ruta_archivo = input(\"Introduce la ruta del archivo CSV con la tabla de transiciones: \")\n",
        "\n",
        "# Leer la tabla de transiciones del archivo CSV\n",
        "tabla_transiciones = leer_tabla_transiciones(ruta_archivo)\n",
        "\n",
        "while True:\n",
        "    cadena = input(\"Introduce una cadena para analizar: \").lower()\n",
        "    if cadena == 'salir':\n",
        "        break\n",
        "    if not set(cadena).issubset(alfabeto):\n",
        "        print(\"La cadena contiene caracteres que no están en el alfabeto del autómata.\")\n",
        "        continue\n",
        "    resultado, secuencia = analizar_cadena(cadena, tabla_transiciones)\n",
        "    print(secuencia)"
      ]
    }
  ]
}